{
  "nbformat": 4,
  "nbformat_minor": 0,
  "metadata": {
    "colab": {
      "provenance": [],
      "authorship_tag": "ABX9TyPKs5pLxcNTCtrni0aLts7M",
      "include_colab_link": true
    },
    "kernelspec": {
      "name": "python3",
      "display_name": "Python 3"
    },
    "language_info": {
      "name": "python"
    }
  },
  "cells": [
    {
      "cell_type": "markdown",
      "metadata": {
        "id": "view-in-github",
        "colab_type": "text"
      },
      "source": [
        "<a href=\"https://colab.research.google.com/github/jawnpaul/gemini-multimodal/blob/master/gemini_audio.ipynb\" target=\"_parent\"><img src=\"https://colab.research.google.com/assets/colab-badge.svg\" alt=\"Open In Colab\"/></a>"
      ]
    },
    {
      "cell_type": "code",
      "execution_count": null,
      "metadata": {
        "id": "jWn2NStFyuMC"
      },
      "outputs": [],
      "source": [
        "!pip install pytube"
      ]
    },
    {
      "cell_type": "code",
      "source": [
        "!pip install -q -U google-generativeai"
      ],
      "metadata": {
        "id": "ZMg971Pgy4qt"
      },
      "execution_count": 2,
      "outputs": []
    },
    {
      "cell_type": "code",
      "source": [
        "!pip install markdown-pdf"
      ],
      "metadata": {
        "id": "oVTPLrMGzEXz"
      },
      "execution_count": null,
      "outputs": []
    },
    {
      "cell_type": "code",
      "source": [
        "from pytube import YouTube\n",
        "\n",
        "url = \"https://www.youtube.com/watch?v=6akmv1bsz1M\"\n",
        "\n",
        "try:\n",
        "   video = YouTube(url)\n",
        "   stream = video.streams.filter(only_audio=True).first()\n",
        "   stream.download(filename=\"audio.mp3\")\n",
        "   print(\"The video is downloaded in MP3\")\n",
        "except KeyError:\n",
        "   print(\"Unable to fetch video information. Please check the video URL or your network connection.\")"
      ],
      "metadata": {
        "colab": {
          "base_uri": "https://localhost:8080/"
        },
        "id": "zq2w7k_jzLdL",
        "outputId": "7c333012-141d-43c6-a61f-df21236b4695"
      },
      "execution_count": 4,
      "outputs": [
        {
          "output_type": "stream",
          "name": "stdout",
          "text": [
            "The video is downloaded in MP3\n"
          ]
        }
      ]
    },
    {
      "cell_type": "code",
      "source": [
        "import google.generativeai as genai\n",
        "from google.colab import userdata\n",
        "\n",
        "GOOGLE_API_KEY=userdata.get('GOOGLE_API_KEY')\n",
        "genai.configure(api_key=GOOGLE_API_KEY)"
      ],
      "metadata": {
        "id": "jC9HCwc-zxEF"
      },
      "execution_count": 5,
      "outputs": []
    },
    {
      "cell_type": "code",
      "source": [
        "audio_file = genai.upload_file(path='audio.mp3')"
      ],
      "metadata": {
        "id": "tJRf2vjv0OJr"
      },
      "execution_count": 6,
      "outputs": []
    },
    {
      "cell_type": "code",
      "source": [
        "prompt = \"Listen carefully to the following audio file. Provide a list of topics you want your student to know so that can be experts in this subject. You should create a syllabus with a timeframe for each topic.\"\n",
        "system_instructions = \"You are an educational instructor.\"\n",
        "model = genai.GenerativeModel('models/gemini-1.5-pro-latest', system_instruction=system_instructions)\n",
        "response = model.generate_content([prompt, audio_file])\n",
        "print(response.text)"
      ],
      "metadata": {
        "id": "i8h3u8Gx0epY"
      },
      "execution_count": null,
      "outputs": []
    },
    {
      "cell_type": "code",
      "source": [
        "from markdown_pdf import MarkdownPdf, Section\n",
        "\n",
        "pdf = MarkdownPdf()\n",
        "name = \"Today\"\n",
        "section_one = f\"# {name} \\n## Syllabus \\n {response.text}\"\n",
        "\n",
        "pdf.add_section(Section(response.text, toc=False))\n",
        "pdf.save(\"syllabus.pdf\")"
      ],
      "metadata": {
        "id": "I_nsICIP2IJj"
      },
      "execution_count": 8,
      "outputs": []
    }
  ]
}